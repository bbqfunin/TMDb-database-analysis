{
 "cells": [
  {
   "cell_type": "markdown",
   "metadata": {},
   "source": [
    "\n",
    "# 项目：TMDb电影数据集分析\n",
    "\n",
    "## 目录\n",
    "<ul>\n",
    "<li><a href=\"#intro\">简介</a></li>\n",
    "<li><a href=\"#wrangling\">数据整理</a></li>\n",
    "<li><a href=\"#eda\">探索性数据分析</a></li>\n",
    "<li><a href=\"#conclusions\">结论</a></li>\n",
    "</ul>\n",
    "\n",
    "<a id='intro'></a>\n",
    "## 简介\n",
    "\n",
    "> TMDb数据集中包含 1 万条电影信息，信息来源为“电影数据库”（TMDb，The Movie Database），包括电影名称，总投入，总收入，用户评分，演员，导演，影片类别，用户影评等多个有用变量\n",
    "\n",
    "> 研究问题1：一共有那些电影类型，2010年以后最受欢迎的电影类别是什么，最受欢迎的类别前五名分别是什么\n",
    "\n",
    "> 研究问题2：票房高的电影有哪些特点"
   ]
  },
  {
   "cell_type": "code",
   "execution_count": 1,
   "metadata": {},
   "outputs": [],
   "source": [
    "#导入数据集并查看\n",
    "import pandas as pd\n",
    "import numpy as np\n",
    "import matplotlib.pyplot as plt\n",
    "% matplotlib inline\n",
    "import seaborn as sns\n",
    "sns.set_style('darkgrid')\n",
    "\n",
    "df_movie = pd.read_csv('tmdb-movies.csv')"
   ]
  },
  {
   "cell_type": "markdown",
   "metadata": {},
   "source": [
    "<a id='wrangling'></a>\n",
    "## 数据整理\n",
    "\n",
    "\n",
    "### 常规属性"
   ]
  },
  {
   "cell_type": "code",
   "execution_count": 2,
   "metadata": {},
   "outputs": [
    {
     "data": {
      "text/html": [
       "<div>\n",
       "<style>\n",
       "    .dataframe thead tr:only-child th {\n",
       "        text-align: right;\n",
       "    }\n",
       "\n",
       "    .dataframe thead th {\n",
       "        text-align: left;\n",
       "    }\n",
       "\n",
       "    .dataframe tbody tr th {\n",
       "        vertical-align: top;\n",
       "    }\n",
       "</style>\n",
       "<table border=\"1\" class=\"dataframe\">\n",
       "  <thead>\n",
       "    <tr style=\"text-align: right;\">\n",
       "      <th></th>\n",
       "      <th>id</th>\n",
       "      <th>imdb_id</th>\n",
       "      <th>popularity</th>\n",
       "      <th>budget</th>\n",
       "      <th>revenue</th>\n",
       "      <th>original_title</th>\n",
       "      <th>cast</th>\n",
       "      <th>homepage</th>\n",
       "      <th>director</th>\n",
       "      <th>tagline</th>\n",
       "      <th>...</th>\n",
       "      <th>overview</th>\n",
       "      <th>runtime</th>\n",
       "      <th>genres</th>\n",
       "      <th>production_companies</th>\n",
       "      <th>release_date</th>\n",
       "      <th>vote_count</th>\n",
       "      <th>vote_average</th>\n",
       "      <th>release_year</th>\n",
       "      <th>budget_adj</th>\n",
       "      <th>revenue_adj</th>\n",
       "    </tr>\n",
       "  </thead>\n",
       "  <tbody>\n",
       "    <tr>\n",
       "      <th>0</th>\n",
       "      <td>135397</td>\n",
       "      <td>tt0369610</td>\n",
       "      <td>32.985763</td>\n",
       "      <td>150000000</td>\n",
       "      <td>1513528810</td>\n",
       "      <td>Jurassic World</td>\n",
       "      <td>Chris Pratt|Bryce Dallas Howard|Irrfan Khan|Vi...</td>\n",
       "      <td>http://www.jurassicworld.com/</td>\n",
       "      <td>Colin Trevorrow</td>\n",
       "      <td>The park is open.</td>\n",
       "      <td>...</td>\n",
       "      <td>Twenty-two years after the events of Jurassic ...</td>\n",
       "      <td>124</td>\n",
       "      <td>Action|Adventure|Science Fiction|Thriller</td>\n",
       "      <td>Universal Studios|Amblin Entertainment|Legenda...</td>\n",
       "      <td>6/9/15</td>\n",
       "      <td>5562</td>\n",
       "      <td>6.5</td>\n",
       "      <td>2015</td>\n",
       "      <td>1.379999e+08</td>\n",
       "      <td>1.392446e+09</td>\n",
       "    </tr>\n",
       "    <tr>\n",
       "      <th>1</th>\n",
       "      <td>76341</td>\n",
       "      <td>tt1392190</td>\n",
       "      <td>28.419936</td>\n",
       "      <td>150000000</td>\n",
       "      <td>378436354</td>\n",
       "      <td>Mad Max: Fury Road</td>\n",
       "      <td>Tom Hardy|Charlize Theron|Hugh Keays-Byrne|Nic...</td>\n",
       "      <td>http://www.madmaxmovie.com/</td>\n",
       "      <td>George Miller</td>\n",
       "      <td>What a Lovely Day.</td>\n",
       "      <td>...</td>\n",
       "      <td>An apocalyptic story set in the furthest reach...</td>\n",
       "      <td>120</td>\n",
       "      <td>Action|Adventure|Science Fiction|Thriller</td>\n",
       "      <td>Village Roadshow Pictures|Kennedy Miller Produ...</td>\n",
       "      <td>5/13/15</td>\n",
       "      <td>6185</td>\n",
       "      <td>7.1</td>\n",
       "      <td>2015</td>\n",
       "      <td>1.379999e+08</td>\n",
       "      <td>3.481613e+08</td>\n",
       "    </tr>\n",
       "    <tr>\n",
       "      <th>2</th>\n",
       "      <td>262500</td>\n",
       "      <td>tt2908446</td>\n",
       "      <td>13.112507</td>\n",
       "      <td>110000000</td>\n",
       "      <td>295238201</td>\n",
       "      <td>Insurgent</td>\n",
       "      <td>Shailene Woodley|Theo James|Kate Winslet|Ansel...</td>\n",
       "      <td>http://www.thedivergentseries.movie/#insurgent</td>\n",
       "      <td>Robert Schwentke</td>\n",
       "      <td>One Choice Can Destroy You</td>\n",
       "      <td>...</td>\n",
       "      <td>Beatrice Prior must confront her inner demons ...</td>\n",
       "      <td>119</td>\n",
       "      <td>Adventure|Science Fiction|Thriller</td>\n",
       "      <td>Summit Entertainment|Mandeville Films|Red Wago...</td>\n",
       "      <td>3/18/15</td>\n",
       "      <td>2480</td>\n",
       "      <td>6.3</td>\n",
       "      <td>2015</td>\n",
       "      <td>1.012000e+08</td>\n",
       "      <td>2.716190e+08</td>\n",
       "    </tr>\n",
       "  </tbody>\n",
       "</table>\n",
       "<p>3 rows × 21 columns</p>\n",
       "</div>"
      ],
      "text/plain": [
       "       id    imdb_id  popularity     budget     revenue      original_title  \\\n",
       "0  135397  tt0369610   32.985763  150000000  1513528810      Jurassic World   \n",
       "1   76341  tt1392190   28.419936  150000000   378436354  Mad Max: Fury Road   \n",
       "2  262500  tt2908446   13.112507  110000000   295238201           Insurgent   \n",
       "\n",
       "                                                cast  \\\n",
       "0  Chris Pratt|Bryce Dallas Howard|Irrfan Khan|Vi...   \n",
       "1  Tom Hardy|Charlize Theron|Hugh Keays-Byrne|Nic...   \n",
       "2  Shailene Woodley|Theo James|Kate Winslet|Ansel...   \n",
       "\n",
       "                                         homepage          director  \\\n",
       "0                   http://www.jurassicworld.com/   Colin Trevorrow   \n",
       "1                     http://www.madmaxmovie.com/     George Miller   \n",
       "2  http://www.thedivergentseries.movie/#insurgent  Robert Schwentke   \n",
       "\n",
       "                      tagline      ...       \\\n",
       "0           The park is open.      ...        \n",
       "1          What a Lovely Day.      ...        \n",
       "2  One Choice Can Destroy You      ...        \n",
       "\n",
       "                                            overview runtime  \\\n",
       "0  Twenty-two years after the events of Jurassic ...     124   \n",
       "1  An apocalyptic story set in the furthest reach...     120   \n",
       "2  Beatrice Prior must confront her inner demons ...     119   \n",
       "\n",
       "                                      genres  \\\n",
       "0  Action|Adventure|Science Fiction|Thriller   \n",
       "1  Action|Adventure|Science Fiction|Thriller   \n",
       "2         Adventure|Science Fiction|Thriller   \n",
       "\n",
       "                                production_companies release_date vote_count  \\\n",
       "0  Universal Studios|Amblin Entertainment|Legenda...       6/9/15       5562   \n",
       "1  Village Roadshow Pictures|Kennedy Miller Produ...      5/13/15       6185   \n",
       "2  Summit Entertainment|Mandeville Films|Red Wago...      3/18/15       2480   \n",
       "\n",
       "   vote_average  release_year    budget_adj   revenue_adj  \n",
       "0           6.5          2015  1.379999e+08  1.392446e+09  \n",
       "1           7.1          2015  1.379999e+08  3.481613e+08  \n",
       "2           6.3          2015  1.012000e+08  2.716190e+08  \n",
       "\n",
       "[3 rows x 21 columns]"
      ]
     },
     "execution_count": 2,
     "metadata": {},
     "output_type": "execute_result"
    }
   ],
   "source": [
    "df_movie.head(3)"
   ]
  },
  {
   "cell_type": "code",
   "execution_count": 3,
   "metadata": {},
   "outputs": [
    {
     "name": "stdout",
     "output_type": "stream",
     "text": [
      "<class 'pandas.core.frame.DataFrame'>\n",
      "RangeIndex: 10866 entries, 0 to 10865\n",
      "Data columns (total 21 columns):\n",
      "id                      10866 non-null int64\n",
      "imdb_id                 10856 non-null object\n",
      "popularity              10866 non-null float64\n",
      "budget                  10866 non-null int64\n",
      "revenue                 10866 non-null int64\n",
      "original_title          10866 non-null object\n",
      "cast                    10790 non-null object\n",
      "homepage                2936 non-null object\n",
      "director                10822 non-null object\n",
      "tagline                 8042 non-null object\n",
      "keywords                9373 non-null object\n",
      "overview                10862 non-null object\n",
      "runtime                 10866 non-null int64\n",
      "genres                  10843 non-null object\n",
      "production_companies    9836 non-null object\n",
      "release_date            10866 non-null object\n",
      "vote_count              10866 non-null int64\n",
      "vote_average            10866 non-null float64\n",
      "release_year            10866 non-null int64\n",
      "budget_adj              10866 non-null float64\n",
      "revenue_adj             10866 non-null float64\n",
      "dtypes: float64(4), int64(6), object(11)\n",
      "memory usage: 1.7+ MB\n"
     ]
    }
   ],
   "source": [
    "df_movie.info()"
   ]
  },
  {
   "cell_type": "markdown",
   "metadata": {},
   "source": [
    "\n",
    "### 数据清理(删除缺失值，去掉重复值)"
   ]
  },
  {
   "cell_type": "code",
   "execution_count": 4,
   "metadata": {},
   "outputs": [],
   "source": [
    "#去掉不需要的列\n",
    "df_movie.drop(['homepage','keywords','tagline','production_companies'],axis=1,inplace=True)"
   ]
  },
  {
   "cell_type": "code",
   "execution_count": 5,
   "metadata": {},
   "outputs": [
    {
     "data": {
      "text/plain": [
       "id                0\n",
       "imdb_id           0\n",
       "popularity        0\n",
       "budget            0\n",
       "revenue           0\n",
       "original_title    0\n",
       "cast              0\n",
       "director          0\n",
       "overview          0\n",
       "runtime           0\n",
       "genres            0\n",
       "release_date      0\n",
       "vote_count        0\n",
       "vote_average      0\n",
       "release_year      0\n",
       "budget_adj        0\n",
       "revenue_adj       0\n",
       "dtype: int64"
      ]
     },
     "execution_count": 5,
     "metadata": {},
     "output_type": "execute_result"
    }
   ],
   "source": [
    "#去除缺失值\n",
    "df_movie.dropna(inplace=True)\n",
    "df_movie.isnull().sum()"
   ]
  },
  {
   "cell_type": "code",
   "execution_count": 6,
   "metadata": {},
   "outputs": [
    {
     "name": "stdout",
     "output_type": "stream",
     "text": [
      "1\n"
     ]
    }
   ],
   "source": [
    "print(sum(df_movie.duplicated()))"
   ]
  },
  {
   "cell_type": "code",
   "execution_count": 7,
   "metadata": {},
   "outputs": [
    {
     "name": "stdout",
     "output_type": "stream",
     "text": [
      "0\n",
      "<class 'pandas.core.frame.DataFrame'>\n",
      "Int64Index: 10724 entries, 0 to 10865\n",
      "Data columns (total 17 columns):\n",
      "id                10724 non-null int64\n",
      "imdb_id           10724 non-null object\n",
      "popularity        10724 non-null float64\n",
      "budget            10724 non-null int64\n",
      "revenue           10724 non-null int64\n",
      "original_title    10724 non-null object\n",
      "cast              10724 non-null object\n",
      "director          10724 non-null object\n",
      "overview          10724 non-null object\n",
      "runtime           10724 non-null int64\n",
      "genres            10724 non-null object\n",
      "release_date      10724 non-null object\n",
      "vote_count        10724 non-null int64\n",
      "vote_average      10724 non-null float64\n",
      "release_year      10724 non-null int64\n",
      "budget_adj        10724 non-null float64\n",
      "revenue_adj       10724 non-null float64\n",
      "dtypes: float64(4), int64(6), object(7)\n",
      "memory usage: 1.5+ MB\n"
     ]
    }
   ],
   "source": [
    "#去掉重复值\n",
    "df_movie.drop_duplicates(inplace=True)\n",
    "print(sum(df_movie.duplicated()))\n",
    "df_movie.info()"
   ]
  },
  {
   "cell_type": "markdown",
   "metadata": {},
   "source": [
    "<a id='eda'></a>\n",
    "## 探索性数据分析\n",
    "\n",
    "\n",
    "### 研究问题 1:  一共有那些电影类型，2010年以后最受欢迎的电影类别是什么，最受欢迎的类别前五名分别是什么"
   ]
  },
  {
   "cell_type": "code",
   "execution_count": 8,
   "metadata": {},
   "outputs": [],
   "source": [
    "#genres这一列按照|切分，整理成列表形式\n",
    "df_movie['genres'] = df_movie['genres'].apply(lambda x : x.split('|'))"
   ]
  },
  {
   "cell_type": "code",
   "execution_count": 9,
   "metadata": {},
   "outputs": [],
   "source": [
    "#提取数据集中2010年以后的数据\n",
    "df_2010 = df_movie.query('release_year > 2010')"
   ]
  },
  {
   "cell_type": "code",
   "execution_count": 10,
   "metadata": {},
   "outputs": [],
   "source": [
    "#定义电影类型函数\n",
    "def movietype(df):\n",
    "    mtype = []\n",
    "    for movielist in df['genres']:\n",
    "        mtype = mtype + movielist\n",
    "    return mtype, list(set(mtype)) # 返回包含df中所有电影类型的列表和df中唯一电影类型的列表\n",
    "\n",
    "#定义分类别计数函数\n",
    "def tcounts(list1,list2): #list1是待分类计数的列表，list2是list1中所有的分类唯一值\n",
    "    typecounts = {}\n",
    "    typecounts = typecounts.fromkeys(list2,0)\n",
    "    for i in list1:\n",
    "        typecounts[i] += 1\n",
    "    return typecounts"
   ]
  },
  {
   "cell_type": "code",
   "execution_count": 11,
   "metadata": {},
   "outputs": [
    {
     "name": "stdout",
     "output_type": "stream",
     "text": [
      "Drama 1241\n"
     ]
    }
   ],
   "source": [
    "typecounts = tcounts(movietype(df_2010)[0],movietype(df_2010)[1])\n",
    "#寻找2010年以后最受欢迎的电影类别\n",
    "for key in typecounts:\n",
    "    if typecounts[key] == max(typecounts.values()):\n",
    "        print(key,typecounts[key])"
   ]
  },
  {
   "cell_type": "code",
   "execution_count": 12,
   "metadata": {},
   "outputs": [
    {
     "data": {
      "text/plain": [
       "[('Drama', 1241), ('Comedy', 859), ('Thriller', 830)]"
      ]
     },
     "execution_count": 12,
     "metadata": {},
     "output_type": "execute_result"
    }
   ],
   "source": [
    "#寻找2010年以后最受欢迎的电影类别前三名\n",
    "sorted(typecounts.items(),key = lambda item : item[1], reverse=True)[0:3]"
   ]
  },
  {
   "cell_type": "code",
   "execution_count": 13,
   "metadata": {},
   "outputs": [
    {
     "data": {
      "image/png": "[encoded data removed]",
      "text/plain": [
       "<matplotlib.figure.Figure at 0x7f35fb263278>"
      ]
     },
     "metadata": {},
     "output_type": "display_data"
    }
   ],
   "source": [
    "#结果可视化\n",
    "labels = typecounts.keys()\n",
    "counts = typecounts.values()\n",
    "location = np.arange(len(typecounts))\n",
    "width = 0.5\n",
    "plt.bar(location,counts,width, alpha = 0.7)\n",
    "plt.ylabel('Counts')\n",
    "plt.xlabel('genres')\n",
    "plt.title('Counts of diffenent genres in TMDb database')\n",
    "plt.xticks(location, labels, rotation=90);"
   ]
  },
  {
   "cell_type": "markdown",
   "metadata": {},
   "source": [
    "### 研究问题 2：票房高的电影有哪些特点"
   ]
  },
  {
   "cell_type": "code",
   "execution_count": 14,
   "metadata": {},
   "outputs": [
    {
     "name": "stdout",
     "output_type": "stream",
     "text": [
      "count    1.072400e+04\n",
      "mean     4.034621e+07\n",
      "std      1.176863e+08\n",
      "min      0.000000e+00\n",
      "25%      0.000000e+00\n",
      "50%      0.000000e+00\n",
      "75%      2.500980e+07\n",
      "max      2.781506e+09\n",
      "Name: revenue, dtype: float64\n"
     ]
    }
   ],
   "source": [
    "print(df_movie['revenue'].describe())"
   ]
  },
  {
   "cell_type": "markdown",
   "metadata": {},
   "source": [
    "由于最小值和50%分位数均为0，75%分位数大于0，所以数据集中半数以上的电影票房为0，不具有研究价值，下面仅提取票房大于0的样本进行分析"
   ]
  },
  {
   "cell_type": "code",
   "execution_count": 15,
   "metadata": {},
   "outputs": [
    {
     "name": "stdout",
     "output_type": "stream",
     "text": [
      "count    4.843000e+03\n",
      "mean     8.933981e+07\n",
      "std      1.621546e+08\n",
      "min      2.000000e+00\n",
      "25%      7.779664e+06\n",
      "50%      3.191160e+07\n",
      "75%      1.000000e+08\n",
      "max      2.781506e+09\n",
      "Name: revenue, dtype: float64\n"
     ]
    }
   ],
   "source": [
    "revenue_pos = df_movie.query('revenue > 0') #生成票房大于0的子数据集\n",
    "print(revenue_pos['revenue'].describe())"
   ]
  },
  {
   "cell_type": "code",
   "execution_count": 16,
   "metadata": {},
   "outputs": [
    {
     "data": {
      "text/html": [
       "<div>\n",
       "<style>\n",
       "    .dataframe thead tr:only-child th {\n",
       "        text-align: right;\n",
       "    }\n",
       "\n",
       "    .dataframe thead th {\n",
       "        text-align: left;\n",
       "    }\n",
       "\n",
       "    .dataframe tbody tr th {\n",
       "        vertical-align: top;\n",
       "    }\n",
       "</style>\n",
       "<table border=\"1\" class=\"dataframe\">\n",
       "  <thead>\n",
       "    <tr style=\"text-align: right;\">\n",
       "      <th></th>\n",
       "      <th>id</th>\n",
       "      <th>imdb_id</th>\n",
       "      <th>popularity</th>\n",
       "      <th>budget</th>\n",
       "      <th>revenue</th>\n",
       "      <th>original_title</th>\n",
       "      <th>cast</th>\n",
       "      <th>director</th>\n",
       "      <th>overview</th>\n",
       "      <th>runtime</th>\n",
       "      <th>genres</th>\n",
       "      <th>release_date</th>\n",
       "      <th>vote_count</th>\n",
       "      <th>vote_average</th>\n",
       "      <th>release_year</th>\n",
       "      <th>budget_adj</th>\n",
       "      <th>revenue_adj</th>\n",
       "      <th>revenue_levels</th>\n",
       "    </tr>\n",
       "  </thead>\n",
       "  <tbody>\n",
       "    <tr>\n",
       "      <th>0</th>\n",
       "      <td>135397</td>\n",
       "      <td>tt0369610</td>\n",
       "      <td>32.985763</td>\n",
       "      <td>150000000</td>\n",
       "      <td>1513528810</td>\n",
       "      <td>Jurassic World</td>\n",
       "      <td>Chris Pratt|Bryce Dallas Howard|Irrfan Khan|Vi...</td>\n",
       "      <td>Colin Trevorrow</td>\n",
       "      <td>Twenty-two years after the events of Jurassic ...</td>\n",
       "      <td>124</td>\n",
       "      <td>[Action, Adventure, Science Fiction, Thriller]</td>\n",
       "      <td>6/9/15</td>\n",
       "      <td>5562</td>\n",
       "      <td>6.5</td>\n",
       "      <td>2015</td>\n",
       "      <td>1.379999e+08</td>\n",
       "      <td>1.392446e+09</td>\n",
       "      <td>高</td>\n",
       "    </tr>\n",
       "    <tr>\n",
       "      <th>1</th>\n",
       "      <td>76341</td>\n",
       "      <td>tt1392190</td>\n",
       "      <td>28.419936</td>\n",
       "      <td>150000000</td>\n",
       "      <td>378436354</td>\n",
       "      <td>Mad Max: Fury Road</td>\n",
       "      <td>Tom Hardy|Charlize Theron|Hugh Keays-Byrne|Nic...</td>\n",
       "      <td>George Miller</td>\n",
       "      <td>An apocalyptic story set in the furthest reach...</td>\n",
       "      <td>120</td>\n",
       "      <td>[Action, Adventure, Science Fiction, Thriller]</td>\n",
       "      <td>5/13/15</td>\n",
       "      <td>6185</td>\n",
       "      <td>7.1</td>\n",
       "      <td>2015</td>\n",
       "      <td>1.379999e+08</td>\n",
       "      <td>3.481613e+08</td>\n",
       "      <td>高</td>\n",
       "    </tr>\n",
       "    <tr>\n",
       "      <th>2</th>\n",
       "      <td>262500</td>\n",
       "      <td>tt2908446</td>\n",
       "      <td>13.112507</td>\n",
       "      <td>110000000</td>\n",
       "      <td>295238201</td>\n",
       "      <td>Insurgent</td>\n",
       "      <td>Shailene Woodley|Theo James|Kate Winslet|Ansel...</td>\n",
       "      <td>Robert Schwentke</td>\n",
       "      <td>Beatrice Prior must confront her inner demons ...</td>\n",
       "      <td>119</td>\n",
       "      <td>[Adventure, Science Fiction, Thriller]</td>\n",
       "      <td>3/18/15</td>\n",
       "      <td>2480</td>\n",
       "      <td>6.3</td>\n",
       "      <td>2015</td>\n",
       "      <td>1.012000e+08</td>\n",
       "      <td>2.716190e+08</td>\n",
       "      <td>高</td>\n",
       "    </tr>\n",
       "    <tr>\n",
       "      <th>3</th>\n",
       "      <td>140607</td>\n",
       "      <td>tt2488496</td>\n",
       "      <td>11.173104</td>\n",
       "      <td>200000000</td>\n",
       "      <td>2068178225</td>\n",
       "      <td>Star Wars: The Force Awakens</td>\n",
       "      <td>Harrison Ford|Mark Hamill|Carrie Fisher|Adam D...</td>\n",
       "      <td>J.J. Abrams</td>\n",
       "      <td>Thirty years after defeating the Galactic Empi...</td>\n",
       "      <td>136</td>\n",
       "      <td>[Action, Adventure, Science Fiction, Fantasy]</td>\n",
       "      <td>12/15/15</td>\n",
       "      <td>5292</td>\n",
       "      <td>7.5</td>\n",
       "      <td>2015</td>\n",
       "      <td>1.839999e+08</td>\n",
       "      <td>1.902723e+09</td>\n",
       "      <td>高</td>\n",
       "    </tr>\n",
       "    <tr>\n",
       "      <th>4</th>\n",
       "      <td>168259</td>\n",
       "      <td>tt2820852</td>\n",
       "      <td>9.335014</td>\n",
       "      <td>190000000</td>\n",
       "      <td>1506249360</td>\n",
       "      <td>Furious 7</td>\n",
       "      <td>Vin Diesel|Paul Walker|Jason Statham|Michelle ...</td>\n",
       "      <td>James Wan</td>\n",
       "      <td>Deckard Shaw seeks revenge against Dominic Tor...</td>\n",
       "      <td>137</td>\n",
       "      <td>[Action, Crime, Thriller]</td>\n",
       "      <td>4/1/15</td>\n",
       "      <td>2947</td>\n",
       "      <td>7.3</td>\n",
       "      <td>2015</td>\n",
       "      <td>1.747999e+08</td>\n",
       "      <td>1.385749e+09</td>\n",
       "      <td>高</td>\n",
       "    </tr>\n",
       "  </tbody>\n",
       "</table>\n",
       "</div>"
      ],
      "text/plain": [
       "       id    imdb_id  popularity     budget     revenue  \\\n",
       "0  135397  tt0369610   32.985763  150000000  1513528810   \n",
       "1   76341  tt1392190   28.419936  150000000   378436354   \n",
       "2  262500  tt2908446   13.112507  110000000   295238201   \n",
       "3  140607  tt2488496   11.173104  200000000  2068178225   \n",
       "4  168259  tt2820852    9.335014  190000000  1506249360   \n",
       "\n",
       "                 original_title  \\\n",
       "0                Jurassic World   \n",
       "1            Mad Max: Fury Road   \n",
       "2                     Insurgent   \n",
       "3  Star Wars: The Force Awakens   \n",
       "4                     Furious 7   \n",
       "\n",
       "                                                cast          director  \\\n",
       "0  Chris Pratt|Bryce Dallas Howard|Irrfan Khan|Vi...   Colin Trevorrow   \n",
       "1  Tom Hardy|Charlize Theron|Hugh Keays-Byrne|Nic...     George Miller   \n",
       "2  Shailene Woodley|Theo James|Kate Winslet|Ansel...  Robert Schwentke   \n",
       "3  Harrison Ford|Mark Hamill|Carrie Fisher|Adam D...       J.J. Abrams   \n",
       "4  Vin Diesel|Paul Walker|Jason Statham|Michelle ...         James Wan   \n",
       "\n",
       "                                            overview  runtime  \\\n",
       "0  Twenty-two years after the events of Jurassic ...      124   \n",
       "1  An apocalyptic story set in the furthest reach...      120   \n",
       "2  Beatrice Prior must confront her inner demons ...      119   \n",
       "3  Thirty years after defeating the Galactic Empi...      136   \n",
       "4  Deckard Shaw seeks revenge against Dominic Tor...      137   \n",
       "\n",
       "                                           genres release_date  vote_count  \\\n",
       "0  [Action, Adventure, Science Fiction, Thriller]       6/9/15        5562   \n",
       "1  [Action, Adventure, Science Fiction, Thriller]      5/13/15        6185   \n",
       "2          [Adventure, Science Fiction, Thriller]      3/18/15        2480   \n",
       "3   [Action, Adventure, Science Fiction, Fantasy]     12/15/15        5292   \n",
       "4                       [Action, Crime, Thriller]       4/1/15        2947   \n",
       "\n",
       "   vote_average  release_year    budget_adj   revenue_adj revenue_levels  \n",
       "0           6.5          2015  1.379999e+08  1.392446e+09              高  \n",
       "1           7.1          2015  1.379999e+08  3.481613e+08              高  \n",
       "2           6.3          2015  1.012000e+08  2.716190e+08              高  \n",
       "3           7.5          2015  1.839999e+08  1.902723e+09              高  \n",
       "4           7.3          2015  1.747999e+08  1.385749e+09              高  "
      ]
     },
     "execution_count": 16,
     "metadata": {},
     "output_type": "execute_result"
    }
   ],
   "source": [
    "bin_edges = [2.00e+00,7.78e+06,1.00e+08,2.79e+09] #按照四分位数的值进行分组\n",
    "bin_names = ['低','中','高']\n",
    "revenue_positive = revenue_pos.copy() #将内容增加到数据框上面去前，需要将数据框拷贝一下，否则会弹出A value is trying to be set on a copy of a slice from a DataFrame.  \n",
    "revenue_positive['revenue_levels']  = pd.cut(revenue_pos['revenue'], bin_edges, labels=bin_names)\n",
    "revenue_positive.head()"
   ]
  },
  {
   "cell_type": "code",
   "execution_count": 17,
   "metadata": {},
   "outputs": [],
   "source": [
    "#按照票房高低分组\n",
    "re_high = revenue_positive.query('revenue_levels == \"高\"')\n",
    "re_median = revenue_positive.query('revenue_levels == \"中\"')\n",
    "re_low = revenue_positive.query('revenue_levels == \"低\"')"
   ]
  },
  {
   "cell_type": "code",
   "execution_count": 18,
   "metadata": {},
   "outputs": [
    {
     "data": {
      "image/png": "[encoded data removed]",
      "text/plain": [
       "<matplotlib.figure.Figure at 0x7f35fb193e80>"
      ]
     },
     "metadata": {},
     "output_type": "display_data"
    }
   ],
   "source": [
    "#考察票房高低与电影发行时间的关系\n",
    "plt.scatter(x=re_high['release_year'],y=re_high['revenue'],color='red')\n",
    "plt.scatter(x=re_median['release_year'],y=re_median['revenue'],color='blue')\n",
    "plt.scatter(x=re_low['release_year'],y=re_low['revenue'],color='yellow')\n",
    "plt.xlabel('release_year')\n",
    "plt.ylabel('revenue_levels')\n",
    "label=['high','median','low']\n",
    "plt.legend(label)\n",
    "plt.title('revenue_levels vs release_year')\n",
    "plt.show();"
   ]
  },
  {
   "cell_type": "markdown",
   "metadata": {},
   "source": [
    "票房高的电影发行时间越往后，票房有越高的趋势，票房低和票房中等的电影发行时间和票房没有明显关联"
   ]
  },
  {
   "cell_type": "code",
   "execution_count": 19,
   "metadata": {},
   "outputs": [
    {
     "data": {
      "image/png": "[encoded data removed]",
      "text/plain": [
       "<matplotlib.figure.Figure at 0x7f35fb0cccf8>"
      ]
     },
     "metadata": {},
     "output_type": "display_data"
    }
   ],
   "source": [
    "#考察票房高低与预算投入的关系\n",
    "plt.scatter(x=re_high['budget'],y=re_high['revenue'],color='red')\n",
    "plt.scatter(x=re_median['budget'],y=re_median['revenue'],color='blue')\n",
    "plt.scatter(x=re_low['budget'],y=re_low['revenue'],color='yellow')\n",
    "plt.xlabel('budget')\n",
    "plt.ylabel('revenue_levels')\n",
    "label=['high','median','low']\n",
    "plt.legend(label)\n",
    "plt.title('revenue_levels vs budget')\n",
    "plt.show();"
   ]
  },
  {
   "cell_type": "markdown",
   "metadata": {},
   "source": [
    "票房高的电影在一定范围内投入预算增加，票房有增多的趋势，票房低和票房中等的电影预算与票房没有明显关联"
   ]
  },
  {
   "cell_type": "code",
   "execution_count": 20,
   "metadata": {},
   "outputs": [
    {
     "data": {
      "image/png": "[encoded data removed]",
      "text/plain": [
       "<matplotlib.figure.Figure at 0x7f35fb083400>"
      ]
     },
     "metadata": {},
     "output_type": "display_data"
    }
   ],
   "source": [
    "#考察票房高低与电影平均播放时长的关系\n",
    "t_h = re_high['runtime'].mean()\n",
    "t_m = re_median['runtime'].mean()\n",
    "t_l = re_low['runtime'].mean()\n",
    "plt.bar([0,0.2,0.4],[t_h,t_m,t_l], width=0.1, alpha = 0.7, tick_label=['High','median','Low'])\n",
    "plt.ylabel('mean_runtime')\n",
    "plt.xlabel('revenue_levels')\n",
    "plt.title('revenue_levels vs mean runtime')\n",
    "plt.show();"
   ]
  },
  {
   "cell_type": "markdown",
   "metadata": {},
   "source": [
    "票房从高到低，电影平均播放时长逐渐减少"
   ]
  },
  {
   "cell_type": "code",
   "execution_count": 21,
   "metadata": {},
   "outputs": [
    {
     "data": {
      "image/png": "[encoded data removed]",
      "text/plain": [
       "<matplotlib.figure.Figure at 0x7f35fabc6978>"
      ]
     },
     "metadata": {},
     "output_type": "display_data"
    }
   ],
   "source": [
    "#考察票房高低与观影人数的关系\n",
    "p_h = re_high['popularity'].mean()\n",
    "p_m = re_low['popularity'].mean()\n",
    "p_l = re_low['popularity'].mean()\n",
    "plt.bar([0,0.2,0.4],[p_h,p_m,p_l], width=0.1, alpha = 0.7, tick_label=['High','median','Low'])\n",
    "plt.ylabel('mean_popularity')\n",
    "plt.xlabel('revenue_levels')\n",
    "plt.title('revenue_levels vs mean_popularity')\n",
    "plt.show();"
   ]
  },
  {
   "cell_type": "markdown",
   "metadata": {},
   "source": [
    "票房高的电影观影人数比票房中等和低的观影人数多很多，近似三倍以上，票房中等和票房低的电影观影人数相近"
   ]
  },
  {
   "cell_type": "code",
   "execution_count": 22,
   "metadata": {},
   "outputs": [],
   "source": [
    "#考察票房高低与电影类别的关系\n",
    "h_typecounts = tcounts(movietype(re_high)[0],movietype(re_high)[1])\n",
    "m_typecounts = tcounts(movietype(re_median)[0],movietype(re_median)[1])\n",
    "l_typecounts = tcounts(movietype(re_low)[0],movietype(re_low)[1])"
   ]
  },
  {
   "cell_type": "code",
   "execution_count": 23,
   "metadata": {},
   "outputs": [],
   "source": [
    "keylist = set(list(h_typecounts.keys()) + list(m_typecounts.keys()) + list(l_typecounts.keys())) # 生成票房分类样本中所有电影类别的列表\n",
    "def add0(df): #定义一个函数，检验字典中是否包含keylist中所有的键，如果没有，赋值为0\n",
    "    for i in keylist:\n",
    "        if i not in df.keys():\n",
    "            df[i] = 0\n",
    "    return df\n",
    "\n",
    "def sortbykey(df): #定义一个函数，对字典按照键值及逆行排序\n",
    "    sortdict = {}\n",
    "    for k in sorted(df.keys()):\n",
    "        sortdict[k] = df[k]\n",
    "    return sortdict\n",
    "\n",
    "h_typecounts = sortbykey(add0(h_typecounts))\n",
    "m_typecounts = sortbykey(add0(m_typecounts))\n",
    "l_typecounts = sortbykey(add0(l_typecounts))"
   ]
  },
  {
   "cell_type": "code",
   "execution_count": 24,
   "metadata": {},
   "outputs": [
    {
     "data": {
      "text/plain": [
       "True"
      ]
     },
     "execution_count": 24,
     "metadata": {},
     "output_type": "execute_result"
    }
   ],
   "source": [
    "h_typecounts.keys() == m_typecounts.keys() == l_typecounts.keys()"
   ]
  },
  {
   "cell_type": "code",
   "execution_count": 25,
   "metadata": {},
   "outputs": [],
   "source": [
    "ind = np.arange(len(h_typecounts))  # 组的 x 坐标位置\n",
    "width = 0.2       # 条柱的宽度"
   ]
  },
  {
   "cell_type": "code",
   "execution_count": 26,
   "metadata": {},
   "outputs": [
    {
     "data": {
      "image/png": "[encoded data removed]",
      "text/plain": [
       "<matplotlib.figure.Figure at 0x7f35fb1632b0>"
      ]
     },
     "metadata": {},
     "output_type": "display_data"
    }
   ],
   "source": [
    "#设置画布大小\n",
    "plt.figure(figsize=(10,10))\n",
    "\n",
    "# 绘制条柱\n",
    "high_bars = plt.bar(ind, h_typecounts.values(), width, color='r', alpha=.7, label='High revenue')\n",
    "median_bars = plt.bar(ind + width, m_typecounts.values(), width, color='b', alpha=.7, label='Median revenue')\n",
    "low_bars = plt.bar(ind + width + width, l_typecounts.values(), width, color='y', alpha=.7, label='Low revenue')\n",
    "\n",
    "# 标题和标签\n",
    "plt.ylabel('Counts')\n",
    "plt.xlabel('genres')\n",
    "plt.title('Counts of diffenent genres in different revenue levels')\n",
    "locations = ind + width + width / 2  # x 坐标刻度位置\n",
    "labels = h_typecounts.keys()  # x 坐标刻度标签\n",
    "plt.xticks(locations, labels, rotation=90)\n",
    "\n",
    "# 图例\n",
    "plt.legend();"
   ]
  },
  {
   "cell_type": "markdown",
   "metadata": {},
   "source": [
    "票房中等亚类的电影类型计数差别最大，票房低亚类次之，票房高亚类计数差别最小；\n",
    "\n",
    "三类样本中电影类型计数最多的均为Drama，Comedy和Action，票房高亚类中电影类型计数最高的是Action，票房中等亚类和票房低亚类均是Drama；\n",
    "\n",
    "票房高亚类在Animation类型电影中占主导，计数明显高于其他两个亚类"
   ]
  },
  {
   "cell_type": "markdown",
   "metadata": {},
   "source": [
    "<a id='conclusions'></a>\n",
    "## 结论\n",
    "\n",
    "### 研究问题1\n",
    "    2010年以后的电影类型有'Action','Adventure','Animation','Comedy','Crime','Documentary','Drama','Family',\n",
    "    'Fantasy','Foreign','History','Horror','Music','Mystery','Romance','Science Fiction','TV Movie','\n",
    "    Thriller','War'和'Western'\n",
    "\n",
    "    2010年以后最受欢迎的电影类别是Drama\n",
    "\n",
    "    2010年以后最受欢迎的电影类别前三名是Drama，Comedy，Thriller\n",
    "\n",
    "### 研究问题2\n",
    "     票房高的电影发行时间越往后，票房有越高的趋势，票房低和票房中等的电影发行时间和票房没有明显关联；\n",
    "     \n",
    "     票房高的电影在一定范围内投入预算增加，票房有增多的趋势，票房低和票房中等的电影预算与票房没有明显关联；\n",
    "\n",
    "     票房从高到低，电影平均播放时长逐渐减少；\n",
    "\n",
    "     票房高的电影观影人数比票房中等和低的观影人数多很多，近似三倍以上，票房中等和票房低的电影观影人数相近；\n",
    "\n",
    "     票房中等亚类的电影类型计数差别最大，票房低亚类次之，票房高亚类计数差别最小；\n",
    "     \n",
    "     三类样本中电影类型计数最多的均为Drama，Comedy和Action，票房高亚类中电影类型计数最高的是Action，票房中等亚类和低亚类均是Drama；\n",
    "     \n",
    "     票房高亚类在Animation类型电影中占主导，计数明显高于其他两个亚类\n",
    "     \n",
    "## 局限性\n",
    "    1.问题2中票房高低的分类是按照四分位数为界进行划分的，分类方式不同可能产生不同的分析结果；\n",
    "    \n",
    "    2.问题2中票房变量与发行时间，电影类型等变量通过可视化的方式进行定性比较，只能判断大致的相关趋势，没有经过统计学检验\n",
    "    \n",
    "    3.问题2中票房变量与其他变量之间相关性的分析都是一对一，没有进行一对多的相关分析\n",
    "    \n",
    "    4.数据预处理部分缺失值是直接删除的，可能由填充等其他处理方式\n",
    "    \n",
    "    5.问题1中选取的是2010年后的数据，没有对完整数据集进行分析，分析结果可能有局限"
   ]
  },
  {
   "cell_type": "markdown",
   "metadata": {},
   "source": [
    "<a id='references'></a>\n",
    "## 参考文献\n",
    "     无"
   ]
  },
  {
   "cell_type": "code",
   "execution_count": 27,
   "metadata": {},
   "outputs": [
    {
     "data": {
      "text/plain": [
       "255"
      ]
     },
     "execution_count": 27,
     "metadata": {},
     "output_type": "execute_result"
    }
   ],
   "source": [
    "from subprocess import call\n",
    "call(['python', '-m', 'nbconvert', 'Investigate_a_Dataset.ipynb'])"
   ]
  }
 ],
 "metadata": {
  "kernelspec": {
   "display_name": "Python 3",
   "language": "python",
   "name": "python3"
  },
  "language_info": {
   "codemirror_mode": {
    "name": "ipython",
    "version": 3
   },
   "file_extension": ".py",
   "mimetype": "text/x-python",
   "name": "python",
   "nbconvert_exporter": "python",
   "pygments_lexer": "ipython3",
   "version": "3.6.3"
  }
 },
 "nbformat": 4,
 "nbformat_minor": 2
}
